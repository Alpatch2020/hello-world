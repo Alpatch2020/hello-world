{
 "cells": [
  {
   "cell_type": "markdown",
   "id": "e232cdab-0d6a-4d54-a142-96ed6ce0bab6",
   "metadata": {},
   "source": [
    "# Data Science Tools and Ecosystem"
   ]
  },
  {
   "cell_type": "markdown",
   "id": "c63a1d75-adf0-4d89-b06b-36ed073496f2",
   "metadata": {},
   "source": [
    "In this notebook, Data Science Tools and Ecosystem are summarized\n"
   ]
  },
  {
   "cell_type": "markdown",
   "id": "ad77f7c0-df17-4556-b342-7160c0eac8aa",
   "metadata": {},
   "source": [
    "__Objectives:__\n",
    "* List Popular Languages\n",
    "* List Commonly Used Libraries\n",
    "* Tablulate Data Science Tools\n",
    "* Demonstrate arithmatic operations"
   ]
  },
  {
   "cell_type": "markdown",
   "id": "62f55cde-1038-48d2-b15f-e31c32dd9cad",
   "metadata": {},
   "source": [
    "Some of the popular languages that Data Scientists use are:\n",
    "1. Python\n",
    "2. R\n",
    "3. SQL\n",
    "4. Julia"
   ]
  },
  {
   "cell_type": "markdown",
   "id": "4252c032-14a4-4477-b418-11b4d2dcf0b0",
   "metadata": {},
   "source": [
    "Some of the commonly used libraries used by Data Scientists include:\n",
    "1. Pandas\n",
    "2. Numpy\n",
    "3. GGally\n",
    "4. Matplotlib"
   ]
  },
  {
   "cell_type": "markdown",
   "id": "506de859-b4b3-41b0-a135-d229e9b8382d",
   "metadata": {},
   "source": [
    "Data Science Tools\n",
    "| Data Science Tools|\n",
    "|-------------------|\n",
    "|Github             |\n",
    "|IBM OpenSpace      |\n",
    "|Jupyterlab         |"
   ]
  },
  {
   "cell_type": "markdown",
   "id": "9fa5d88b-444c-4c67-9dee-0902f608e8a6",
   "metadata": {},
   "source": [
    "### Below are a few examples of evaluating arithmetic expressions in Python\n"
   ]
  },
  {
   "cell_type": "code",
   "execution_count": 2,
   "id": "d9b1efd6-695c-4945-a392-a897f83c6834",
   "metadata": {},
   "outputs": [
    {
     "data": {
      "text/plain": [
       "17"
      ]
     },
     "execution_count": 2,
     "metadata": {},
     "output_type": "execute_result"
    }
   ],
   "source": [
    "#This a simple arithmetic expression to mutiply then add integers\n",
    "(3*4)+5"
   ]
  },
  {
   "cell_type": "code",
   "execution_count": 3,
   "id": "1e003fd6-47d1-4742-875a-ee31005e93b4",
   "metadata": {},
   "outputs": [
    {
     "data": {
      "text/plain": [
       "3.3333333333333335"
      ]
     },
     "execution_count": 3,
     "metadata": {},
     "output_type": "execute_result"
    }
   ],
   "source": [
    "#This will convert 200 minutes to hours by diving by 60\n",
    "200/60\n"
   ]
  },
  {
   "cell_type": "markdown",
   "id": "88983773-ac45-48bf-8611-c26440ad1041",
   "metadata": {},
   "source": [
    "## Author\n",
    "Ulrick Loïc Nguekam Emalieu"
   ]
  },
  {
   "cell_type": "code",
   "execution_count": null,
   "id": "4d391ff2-6978-4b2a-be60-43221ff73ed2",
   "metadata": {},
   "outputs": [],
   "source": []
  }
 ],
 "metadata": {
  "kernelspec": {
   "display_name": "Python 3 (ipykernel)",
   "language": "python",
   "name": "python3"
  },
  "language_info": {
   "codemirror_mode": {
    "name": "ipython",
    "version": 3
   },
   "file_extension": ".py",
   "mimetype": "text/x-python",
   "name": "python",
   "nbconvert_exporter": "python",
   "pygments_lexer": "ipython3",
   "version": "3.11.9"
  }
 },
 "nbformat": 4,
 "nbformat_minor": 5
}
